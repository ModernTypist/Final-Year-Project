{
 "cells": [
  {
   "cell_type": "code",
   "execution_count": 1,
   "metadata": {},
   "outputs": [
    {
     "name": "stdout",
     "output_type": "stream",
     "text": [
      "    Gender  Hand   Forearm  Cheek  Comfort\n",
      "0        1   33.6     33.0   34.1        2\n",
      "1        1   33.5     33.6   34.2        2\n",
      "2        1   33.1     32.9   33.4        1\n",
      "3        1   33.0     32.6   32.9        1\n",
      "4        1   33.4     33.2   33.8        2\n",
      "5        1   33.4     33.3   34.0        2\n",
      "6        1   34.1     32.8   33.9        2\n",
      "7        1   32.8     32.7   33.5        1\n",
      "8        1   33.6     33.4   34.2        2\n",
      "9        1   33.4     33.5   34.1        2\n",
      "10       1   34.3     33.8   34.6        3\n",
      "11       1   33.4     33.6   34.3        3\n",
      "12       1   34.0     32.9   34.4        2\n",
      "13       0   34.2     33.6   34.6        1\n",
      "14       0   33.8     33.2   34.7        2\n",
      "15       0   34.6     34.2   35.4        3\n",
      "16       0   33.9     33.7   34.8        3\n",
      "17       0   34.6     34.5   34.8        3\n",
      "18       0   33.5     33.5   34.2        2\n",
      "19       0   34.3     33.3   34.6        2\n",
      "20       0   33.7     33.8   35.0        2\n",
      "21       0   33.8     33.4   34.5        2\n",
      "22       0   33.7     33.0   34.4        2\n",
      "23       0   33.8     33.9   35.1        3\n",
      "24       0   34.5     33.6   34.7        3\n",
      "25       0   33.7     33.2   34.2        1\n",
      "26       0   34.5     34.6   33.9        2\n",
      "27       0   33.8     33.4   34.2        2\n",
      "28       0   34.1     33.7   34.4        2\n",
      "29       0   34.4     34.4   35.2        3\n",
      "..     ...    ...      ...    ...      ...\n",
      "40       1   33.6     33.5   34.1        3\n",
      "41       1   34.2     33.0   33.7        3\n",
      "42       1   33.3     32.9   33.6        2\n",
      "43       1   33.5     33.5   34.5        2\n",
      "44       1   33.0     33.5   33.9        2\n",
      "45       1   34.5     33.9   34.7        3\n",
      "46       1   33.4     33.7   34.3        3\n",
      "47       1   34.0     33.2   34.4        2\n",
      "48       0   34.1     33.8   34.8        2\n",
      "49       0   34.0     33.5   34.4        2\n",
      "50       0   34.3     34.5   35.3        3\n",
      "51       0   34.0     33.8   34.5        3\n",
      "52       0   34.4     34.5   34.7        3\n",
      "53       0   33.6     33.3   34.1        1\n",
      "54       0   34.4     33.6   34.8        3\n",
      "55       0   34.0     34.1   35.2        3\n",
      "56       0   33.6     33.6   34.6        3\n",
      "57       0   33.9     33.1   34.4        2\n",
      "58       0   34.4     33.9   35.0        2\n",
      "59       0   34.0     33.2   34.5        2\n",
      "60       0   33.9     33.7   34.1        2\n",
      "61       0   34.5     34.6   34.3        3\n",
      "62       0   33.6     33.4   34.1        1\n",
      "63       0   34.1     33.8   34.3        2\n",
      "64       0   34.3     34.6   35.2        3\n",
      "65       0   33.5     33.0   34.2        2\n",
      "66       0   34.2     33.8   34.6        2\n",
      "67       0   34.4     34.1   34.7        2\n",
      "68       0   33.2     33.4   33.8        1\n",
      "69       0   33.8     33.6   34.3        2\n",
      "\n",
      "[70 rows x 5 columns]\n"
     ]
    }
   ],
   "source": [
    "import pandas as pd\n",
    "df=pd.read_csv(r\"C:\\Users\\bobkw\\Desktop\\FYP_DATA.csv\")\n",
    "print(df)"
   ]
  },
  {
   "cell_type": "code",
   "execution_count": 2,
   "metadata": {},
   "outputs": [],
   "source": [
    "import numpy as np\n",
    "import matplotlib.pyplot as plt\n",
    "import pandas as pd"
   ]
  },
  {
   "cell_type": "code",
   "execution_count": 3,
   "metadata": {},
   "outputs": [],
   "source": [
    "X = df.iloc[:, 0:4].values\n",
    "y = df.iloc[:, 4].values"
   ]
  },
  {
   "cell_type": "code",
   "execution_count": 4,
   "metadata": {},
   "outputs": [],
   "source": [
    "from sklearn.model_selection import train_test_split\n",
    "X_train, X_test, y_train, y_test = train_test_split(X, y, test_size=0.30)"
   ]
  },
  {
   "cell_type": "code",
   "execution_count": 6,
   "metadata": {},
   "outputs": [
    {
     "data": {
      "text/plain": [
       "KNeighborsClassifier(algorithm='auto', leaf_size=30, metric='minkowski',\n",
       "           metric_params=None, n_jobs=1, n_neighbors=5, p=2,\n",
       "           weights='uniform')"
      ]
     },
     "execution_count": 6,
     "metadata": {},
     "output_type": "execute_result"
    }
   ],
   "source": [
    "from sklearn.neighbors import KNeighborsClassifier\n",
    "classifier = KNeighborsClassifier(n_neighbors=5)\n",
    "classifier.fit(X_train, y_train)"
   ]
  },
  {
   "cell_type": "code",
   "execution_count": 7,
   "metadata": {},
   "outputs": [],
   "source": [
    "y_pred = classifier.predict(X_test)"
   ]
  },
  {
   "cell_type": "code",
   "execution_count": 8,
   "metadata": {},
   "outputs": [
    {
     "name": "stdout",
     "output_type": "stream",
     "text": [
      "[[ 1  2  0]\n",
      " [ 2 12  3]\n",
      " [ 0  0  1]]\n",
      "             precision    recall  f1-score   support\n",
      "\n",
      "          1       0.33      0.33      0.33         3\n",
      "          2       0.86      0.71      0.77        17\n",
      "          3       0.25      1.00      0.40         1\n",
      "\n",
      "avg / total       0.75      0.67      0.69        21\n",
      "\n"
     ]
    }
   ],
   "source": [
    "from sklearn.metrics import classification_report, confusion_matrix\n",
    "print(confusion_matrix(y_test, y_pred))\n",
    "print(classification_report(y_test, y_pred))"
   ]
  },
  {
   "cell_type": "code",
   "execution_count": 9,
   "metadata": {},
   "outputs": [
    {
     "name": "stdout",
     "output_type": "stream",
     "text": [
      "Accuracy: 0.6666666666666666\n"
     ]
    }
   ],
   "source": [
    "from sklearn import metrics\n",
    "print(\"Accuracy:\",metrics.accuracy_score(y_test, y_pred))"
   ]
  },
  {
   "cell_type": "code",
   "execution_count": 11,
   "metadata": {},
   "outputs": [],
   "source": [
    "error = []\n",
    "\n",
    "# Calculating error for K values between 1 and 20\n",
    "for i in range(1, 20):\n",
    "    knn = KNeighborsClassifier(n_neighbors=i)\n",
    "    knn.fit(X_train, y_train)\n",
    "    pred_i = knn.predict(X_test)\n",
    "    error.append(np.mean(pred_i != y_test))"
   ]
  },
  {
   "cell_type": "code",
   "execution_count": 13,
   "metadata": {},
   "outputs": [
    {
     "data": {
      "text/plain": [
       "Text(0,0.5,'Mean Error')"
      ]
     },
     "execution_count": 13,
     "metadata": {},
     "output_type": "execute_result"
    },
    {
     "data": {
      "image/png": "[encoded data removed]",
      "text/plain": [
       "<Figure size 864x432 with 1 Axes>"
      ]
     },
     "metadata": {},
     "output_type": "display_data"
    }
   ],
   "source": [
    "plt.figure(figsize=(12, 6))\n",
    "plt.plot(range(1, 20), error, color='red', linestyle='dashed', marker='o',\n",
    "         markerfacecolor='blue', markersize=10)\n",
    "plt.title('Error Rate K Value')\n",
    "plt.xlabel('K Value')\n",
    "plt.ylabel('Mean Error')"
   ]
  },
  {
   "cell_type": "code",
   "execution_count": null,
   "metadata": {},
   "outputs": [],
   "source": []
  }
 ],
 "metadata": {
  "kernelspec": {
   "display_name": "Python 3",
   "language": "python",
   "name": "python3"
  },
  "language_info": {
   "codemirror_mode": {
    "name": "ipython",
    "version": 3
   },
   "file_extension": ".py",
   "mimetype": "text/x-python",
   "name": "python",
   "nbconvert_exporter": "python",
   "pygments_lexer": "ipython3",
   "version": "3.6.5"
  }
 },
 "nbformat": 4,
 "nbformat_minor": 2
}

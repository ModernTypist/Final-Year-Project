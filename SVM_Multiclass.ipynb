{
 "cells": [
  {
   "cell_type": "code",
   "execution_count": 1,
   "metadata": {},
   "outputs": [
    {
     "name": "stdout",
     "output_type": "stream",
     "text": [
      "    Gender  Hand   Forearm  Cheek  Comfort\n",
      "0        1   33.6     33.0   34.1        2\n",
      "1        1   33.5     33.6   34.2        2\n",
      "2        1   33.1     32.9   33.4        1\n",
      "3        1   33.0     32.6   32.9        1\n",
      "4        1   33.4     33.2   33.8        2\n",
      "5        1   33.4     33.3   34.0        2\n",
      "6        1   34.1     32.8   33.9        2\n",
      "7        1   32.8     32.7   33.5        1\n",
      "8        1   33.6     33.4   34.2        2\n",
      "9        1   33.4     33.5   34.1        2\n",
      "10       1   34.3     33.8   34.6        3\n",
      "11       1   33.4     33.6   34.3        3\n",
      "12       1   34.0     32.9   34.4        2\n",
      "13       0   34.2     33.6   34.6        1\n",
      "14       0   33.8     33.2   34.7        2\n",
      "15       0   34.6     34.2   35.4        3\n",
      "16       0   33.9     33.7   34.8        3\n",
      "17       0   34.6     34.5   34.8        3\n",
      "18       0   33.5     33.5   34.2        2\n",
      "19       0   34.3     33.3   34.6        2\n",
      "20       0   33.7     33.8   35.0        2\n",
      "21       0   33.8     33.4   34.5        2\n",
      "22       0   33.7     33.0   34.4        2\n",
      "23       0   33.8     33.9   35.1        3\n",
      "24       0   34.5     33.6   34.7        3\n",
      "25       0   33.7     33.2   34.2        1\n",
      "26       0   34.5     34.6   33.9        2\n",
      "27       0   33.8     33.4   34.2        2\n",
      "28       0   34.1     33.7   34.4        2\n",
      "29       0   34.4     34.4   35.2        3\n",
      "..     ...    ...      ...    ...      ...\n",
      "40       1   33.6     33.5   34.1        3\n",
      "41       1   34.2     33.0   33.7        3\n",
      "42       1   33.3     32.9   33.6        2\n",
      "43       1   33.5     33.5   34.5        2\n",
      "44       1   33.0     33.5   33.9        2\n",
      "45       1   34.5     33.9   34.7        3\n",
      "46       1   33.4     33.7   34.3        3\n",
      "47       1   34.0     33.2   34.4        2\n",
      "48       0   34.1     33.8   34.8        2\n",
      "49       0   34.0     33.5   34.4        2\n",
      "50       0   34.3     34.5   35.3        3\n",
      "51       0   34.0     33.8   34.5        3\n",
      "52       0   34.4     34.5   34.7        3\n",
      "53       0   33.6     33.3   34.1        1\n",
      "54       0   34.4     33.6   34.8        3\n",
      "55       0   34.0     34.1   35.2        3\n",
      "56       0   33.6     33.6   34.6        3\n",
      "57       0   33.9     33.1   34.4        2\n",
      "58       0   34.4     33.9   35.0        2\n",
      "59       0   34.0     33.2   34.5        2\n",
      "60       0   33.9     33.7   34.1        2\n",
      "61       0   34.5     34.6   34.3        3\n",
      "62       0   33.6     33.4   34.1        1\n",
      "63       0   34.1     33.8   34.3        2\n",
      "64       0   34.3     34.6   35.2        3\n",
      "65       0   33.5     33.0   34.2        2\n",
      "66       0   34.2     33.8   34.6        2\n",
      "67       0   34.4     34.1   34.7        2\n",
      "68       0   33.2     33.4   33.8        1\n",
      "69       0   33.8     33.6   34.3        2\n",
      "\n",
      "[70 rows x 5 columns]\n"
     ]
    }
   ],
   "source": [
    "import pandas as pd\n",
    "df=pd.read_csv(r\"C:\\Users\\bobkw\\Desktop\\FYP_Data.csv\")\n",
    "print(df)"
   ]
  },
  {
   "cell_type": "code",
   "execution_count": 2,
   "metadata": {},
   "outputs": [],
   "source": [
    "import numpy as np\n",
    "import matplotlib.pyplot as plt\n",
    "from sklearn.model_selection import train_test_split\n",
    "from sklearn.svm import SVC\n",
    "y=df.Comfort\n",
    "x=df.drop('Comfort',axis=1)"
   ]
  },
  {
   "cell_type": "code",
   "execution_count": 3,
   "metadata": {},
   "outputs": [
    {
     "data": {
      "text/html": [
       "<div>\n",
       "<style scoped>\n",
       "    .dataframe tbody tr th:only-of-type {\n",
       "        vertical-align: middle;\n",
       "    }\n",
       "\n",
       "    .dataframe tbody tr th {\n",
       "        vertical-align: top;\n",
       "    }\n",
       "\n",
       "    .dataframe thead th {\n",
       "        text-align: right;\n",
       "    }\n",
       "</style>\n",
       "<table border=\"1\" class=\"dataframe\">\n",
       "  <thead>\n",
       "    <tr style=\"text-align: right;\">\n",
       "      <th></th>\n",
       "      <th>Gender</th>\n",
       "      <th>Hand</th>\n",
       "      <th>Forearm</th>\n",
       "      <th>Cheek</th>\n",
       "      <th>Comfort</th>\n",
       "    </tr>\n",
       "  </thead>\n",
       "  <tbody>\n",
       "    <tr>\n",
       "      <th>0</th>\n",
       "      <td>1</td>\n",
       "      <td>33.6</td>\n",
       "      <td>33.0</td>\n",
       "      <td>34.1</td>\n",
       "      <td>2</td>\n",
       "    </tr>\n",
       "    <tr>\n",
       "      <th>1</th>\n",
       "      <td>1</td>\n",
       "      <td>33.5</td>\n",
       "      <td>33.6</td>\n",
       "      <td>34.2</td>\n",
       "      <td>2</td>\n",
       "    </tr>\n",
       "    <tr>\n",
       "      <th>2</th>\n",
       "      <td>1</td>\n",
       "      <td>33.1</td>\n",
       "      <td>32.9</td>\n",
       "      <td>33.4</td>\n",
       "      <td>1</td>\n",
       "    </tr>\n",
       "    <tr>\n",
       "      <th>3</th>\n",
       "      <td>1</td>\n",
       "      <td>33.0</td>\n",
       "      <td>32.6</td>\n",
       "      <td>32.9</td>\n",
       "      <td>1</td>\n",
       "    </tr>\n",
       "    <tr>\n",
       "      <th>4</th>\n",
       "      <td>1</td>\n",
       "      <td>33.4</td>\n",
       "      <td>33.2</td>\n",
       "      <td>33.8</td>\n",
       "      <td>2</td>\n",
       "    </tr>\n",
       "  </tbody>\n",
       "</table>\n",
       "</div>"
      ],
      "text/plain": [
       "   Gender  Hand   Forearm  Cheek  Comfort\n",
       "0       1   33.6     33.0   34.1        2\n",
       "1       1   33.5     33.6   34.2        2\n",
       "2       1   33.1     32.9   33.4        1\n",
       "3       1   33.0     32.6   32.9        1\n",
       "4       1   33.4     33.2   33.8        2"
      ]
     },
     "execution_count": 3,
     "metadata": {},
     "output_type": "execute_result"
    }
   ],
   "source": [
    "df.head()"
   ]
  },
  {
   "cell_type": "code",
   "execution_count": 4,
   "metadata": {},
   "outputs": [
    {
     "data": {
      "text/html": [
       "<div>\n",
       "<style scoped>\n",
       "    .dataframe tbody tr th:only-of-type {\n",
       "        vertical-align: middle;\n",
       "    }\n",
       "\n",
       "    .dataframe tbody tr th {\n",
       "        vertical-align: top;\n",
       "    }\n",
       "\n",
       "    .dataframe thead th {\n",
       "        text-align: right;\n",
       "    }\n",
       "</style>\n",
       "<table border=\"1\" class=\"dataframe\">\n",
       "  <thead>\n",
       "    <tr style=\"text-align: right;\">\n",
       "      <th></th>\n",
       "      <th>Gender</th>\n",
       "      <th>Hand</th>\n",
       "      <th>Forearm</th>\n",
       "      <th>Cheek</th>\n",
       "    </tr>\n",
       "  </thead>\n",
       "  <tbody>\n",
       "    <tr>\n",
       "      <th>67</th>\n",
       "      <td>0</td>\n",
       "      <td>34.4</td>\n",
       "      <td>34.1</td>\n",
       "      <td>34.7</td>\n",
       "    </tr>\n",
       "    <tr>\n",
       "      <th>16</th>\n",
       "      <td>0</td>\n",
       "      <td>33.9</td>\n",
       "      <td>33.7</td>\n",
       "      <td>34.8</td>\n",
       "    </tr>\n",
       "    <tr>\n",
       "      <th>14</th>\n",
       "      <td>0</td>\n",
       "      <td>33.8</td>\n",
       "      <td>33.2</td>\n",
       "      <td>34.7</td>\n",
       "    </tr>\n",
       "    <tr>\n",
       "      <th>44</th>\n",
       "      <td>1</td>\n",
       "      <td>33.0</td>\n",
       "      <td>33.5</td>\n",
       "      <td>33.9</td>\n",
       "    </tr>\n",
       "    <tr>\n",
       "      <th>19</th>\n",
       "      <td>0</td>\n",
       "      <td>34.3</td>\n",
       "      <td>33.3</td>\n",
       "      <td>34.6</td>\n",
       "    </tr>\n",
       "  </tbody>\n",
       "</table>\n",
       "</div>"
      ],
      "text/plain": [
       "    Gender  Hand   Forearm  Cheek\n",
       "67       0   34.4     34.1   34.7\n",
       "16       0   33.9     33.7   34.8\n",
       "14       0   33.8     33.2   34.7\n",
       "44       1   33.0     33.5   33.9\n",
       "19       0   34.3     33.3   34.6"
      ]
     },
     "execution_count": 4,
     "metadata": {},
     "output_type": "execute_result"
    }
   ],
   "source": [
    "x_train,x_test,y_train,y_test=train_test_split(x,y,test_size=0.3)\n",
    "x_train.head()"
   ]
  },
  {
   "cell_type": "code",
   "execution_count": 5,
   "metadata": {},
   "outputs": [
    {
     "data": {
      "text/plain": [
       "SVC(C=1.0, cache_size=200, class_weight=None, coef0=0.0,\n",
       "  decision_function_shape='ovr', degree=3, gamma='auto', kernel='poly',\n",
       "  max_iter=-1, probability=False, random_state=None, shrinking=True,\n",
       "  tol=0.001, verbose=False)"
      ]
     },
     "execution_count": 5,
     "metadata": {},
     "output_type": "execute_result"
    }
   ],
   "source": [
    "from sklearn.svm import SVC\n",
    "svclassifier = SVC(kernel='poly', degree=3)\n",
    "svclassifier.fit(x_train, y_train)"
   ]
  },
  {
   "cell_type": "code",
   "execution_count": 6,
   "metadata": {},
   "outputs": [
    {
     "name": "stdout",
     "output_type": "stream",
     "text": [
      "[[ 1  1  0]\n",
      " [ 0 10  1]\n",
      " [ 0  2  6]]\n",
      "             precision    recall  f1-score   support\n",
      "\n",
      "          1       1.00      0.50      0.67         2\n",
      "          2       0.77      0.91      0.83        11\n",
      "          3       0.86      0.75      0.80         8\n",
      "\n",
      "avg / total       0.82      0.81      0.80        21\n",
      "\n"
     ]
    }
   ],
   "source": [
    "y_pred = svclassifier.predict(x_test)\n",
    "from sklearn.metrics import classification_report, confusion_matrix\n",
    "print(confusion_matrix(y_test, y_pred))\n",
    "print(classification_report(y_test, y_pred))"
   ]
  },
  {
   "cell_type": "code",
   "execution_count": 7,
   "metadata": {},
   "outputs": [
    {
     "name": "stdout",
     "output_type": "stream",
     "text": [
      "Accuracy: 0.8095238095238095\n"
     ]
    }
   ],
   "source": [
    "from sklearn import metrics\n",
    "print(\"Accuracy:\",metrics.accuracy_score(y_test, y_pred))\n",
    "#print(\"Precision:\",metrics.precision_score(y_test, y_pred))"
   ]
  },
  {
   "cell_type": "code",
   "execution_count": null,
   "metadata": {},
   "outputs": [],
   "source": []
  }
 ],
 "metadata": {
  "kernelspec": {
   "display_name": "Python 3",
   "language": "python",
   "name": "python3"
  },
  "language_info": {
   "codemirror_mode": {
    "name": "ipython",
    "version": 3
   },
   "file_extension": ".py",
   "mimetype": "text/x-python",
   "name": "python",
   "nbconvert_exporter": "python",
   "pygments_lexer": "ipython3",
   "version": "3.6.5"
  }
 },
 "nbformat": 4,
 "nbformat_minor": 2
}

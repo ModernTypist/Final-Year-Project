{
 "cells": [
  {
   "cell_type": "code",
   "execution_count": 2,
   "metadata": {},
   "outputs": [],
   "source": [
    "from pythermalcomfort.models import pmv_ppd\n",
    "from pythermalcomfort.psychrometrics import v_relative"
   ]
  },
  {
   "cell_type": "code",
   "execution_count": 3,
   "metadata": {},
   "outputs": [],
   "source": [
    "#Measured air velocity\n",
    "v = 0.1"
   ]
  },
  {
   "cell_type": "code",
   "execution_count": 4,
   "metadata": {},
   "outputs": [
    {
     "name": "stdout",
     "output_type": "stream",
     "text": [
      "0.22\n"
     ]
    }
   ],
   "source": [
    "v_r = v_relative(v=v, met=1.4)\n",
    "print(v_r)"
   ]
  },
  {
   "cell_type": "code",
   "execution_count": 10,
   "metadata": {},
   "outputs": [],
   "source": [
    "#Calculate PMV in accordance with ASHRAE 55 2017\n",
    "#tdb (float) – dry bulb air temperature, default in [°C]\n",
    "#tr (float) – mean radiant temperature, default in [°C]\n",
    "#vr (float) – relative air velocity, default in [m/s]\n",
    "#rh (float) – relative humidity, [%]\n",
    "met (float) – metabolic rate, [met]\n",
    "results = pmv_ppd(tdb= 27, tr=25.5, vr= v_r, rh= 60, met=1.2, clo= 0.5, wme= 0, standard=\"ISO\")"
   ]
  },
  {
   "cell_type": "code",
   "execution_count": 11,
   "metadata": {},
   "outputs": [
    {
     "name": "stdout",
     "output_type": "stream",
     "text": [
      "0.34\n"
     ]
    }
   ],
   "source": [
    "print(results['pmv'])"
   ]
  }
 ],
 "metadata": {
  "kernelspec": {
   "display_name": "Python 3",
   "language": "python",
   "name": "python3"
  },
  "language_info": {
   "codemirror_mode": {
    "name": "ipython",
    "version": 3
   },
   "file_extension": ".py",
   "mimetype": "text/x-python",
   "name": "python",
   "nbconvert_exporter": "python",
   "pygments_lexer": "ipython3",
   "version": "3.6.5"
  }
 },
 "nbformat": 4,
 "nbformat_minor": 2
}
